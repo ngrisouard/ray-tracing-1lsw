{
 "cells": [
  {
   "cell_type": "code",
   "execution_count": 1,
   "id": "d8f49680-8b29-4d5e-89f6-db1dbfa7b968",
   "metadata": {},
   "outputs": [],
   "source": [
    "import numpy as np\n",
    "from scipy.constants import pi"
   ]
  },
  {
   "cell_type": "markdown",
   "id": "2e487aa9-4103-49e7-b5d0-587850e6c631",
   "metadata": {},
   "source": [
    "# Purpose\n",
    "\n",
    "We only try to do a ray tracing case that works, with a fake vortex.\n",
    "\n",
    "## The mean flow: a Gaussian vortex in geostrophic balance\n",
    "\n",
    "According to Jeff's manuscript, his initial vortex is characterized by\n",
    "$$h_v(r) = H - \\underbrace{\\frac{Ro(Lf)^2}{g}}_{=h_v} \\exp\\left(-\\frac{r^2}{2\\sigma^2}\\right) \\quad\\text{and}\\quad u_\\theta = \\underbrace{Ro\\,\\pi^2 f L}_{=u_v} \\frac rL\\exp\\left(-\\frac{r^2}{2\\sigma^2}\\right),$$\n",
    "with $r = \\sqrt{x^2 + y^2}$ and $\\sigma = L/\\pi$.\n",
    "\n",
    "Converting the velocity into Cartesian using $\\mathbf{\\hat\\theta} = -\\sin\\theta\\mathbf{\\hat x} + \\cos\\theta\\mathbf{\\hat y}$,\n",
    "$$U = -u_v \\frac yL \\exp\\left(-\\frac{r^2}{2\\sigma^2}\\right)\\quad\\text{and}\\quad V = u_v \\frac xL \\exp\\left(-\\frac{r^2}{2\\sigma^2}\\right).$$"
   ]
  },
  {
   "cell_type": "code",
   "execution_count": 2,
   "id": "dd2ead8e-b9e6-4d87-aff9-dc7ab5b12abd",
   "metadata": {},
   "outputs": [],
   "source": [
    "def Height(x, y): \n",
    "    \"\"\" Only coordinates as inputs; Ro, etc will be handed from the outer scope (booo!) \"\"\"\n",
    "    r2 = x**2 + y**2\n",
    "    return Hm - hv*np.exp(-0.5*r2/s2)\n",
    "\n",
    "def Uvel(x, y):\n",
    "    \"\"\" Idem \"\"\"\n",
    "    r2 = x**2 + y**2\n",
    "    return -uv*y/Lv*np.exp(-0.5*r2/s2)\n",
    "\n",
    "def Vvel(x, y):\n",
    "    \"\"\" Idem \"\"\"\n",
    "    r2 = x**2 + y**2\n",
    "    return uv*x/Lv*np.exp(-0.5*r2/s2)"
   ]
  },
  {
   "cell_type": "markdown",
   "id": "29afd8ff-a7e0-466b-9766-6c14f9ecb2f4",
   "metadata": {},
   "source": [
    "We also need the derivatives."
   ]
  },
  {
   "cell_type": "code",
   "execution_count": 3,
   "id": "db2c9b33-1588-44c4-9f25-ca72e069b34e",
   "metadata": {},
   "outputs": [],
   "source": [
    "from sympy import exp, symbols, init_printing, diff, sqrt\n",
    "init_printing(use_unicode=True)"
   ]
  },
  {
   "cell_type": "code",
   "execution_count": 4,
   "id": "52a22217-e112-4b44-80d0-7e94283fe73d",
   "metadata": {},
   "outputs": [
    {
     "data": {
      "image/png": "[encoded data removed]",
      "text/latex": [
       "$\\displaystyle - \\frac{u_{v} y e^{\\frac{- x^{2} - y^{2}}{2 \\sigma^{2}}}}{L}$"
      ],
      "text/plain": [
       "          2    2 \n",
       "       - x  - y  \n",
       "       ───────── \n",
       "             2   \n",
       "          2⋅σ    \n",
       "-uᵥ⋅y⋅ℯ          \n",
       "─────────────────\n",
       "        L        "
      ]
     },
     "execution_count": 4,
     "metadata": {},
     "output_type": "execute_result"
    }
   ],
   "source": [
    "x, y, u_v, h_v, L, sigma, H = symbols('x, y, u_v, h_v, L, sigma, H')\n",
    "U = -u_v*(y/L)*exp(-(x**2 + y**2)/(2*sigma**2))\n",
    "U"
   ]
  },
  {
   "cell_type": "code",
   "execution_count": 5,
   "id": "13d315da-d816-40e4-aa65-282a5aa24339",
   "metadata": {},
   "outputs": [
    {
     "data": {
      "image/png": "[encoded data removed]",
      "text/latex": [
       "$\\displaystyle \\frac{u_{v} x y e^{- \\frac{x^{2}}{2 \\sigma^{2}}} e^{- \\frac{y^{2}}{2 \\sigma^{2}}}}{L \\sigma^{2}}$"
      ],
      "text/plain": [
       "          2     2 \n",
       "        -x    -y  \n",
       "        ────  ────\n",
       "           2     2\n",
       "        2⋅σ   2⋅σ \n",
       "uᵥ⋅x⋅y⋅ℯ    ⋅ℯ    \n",
       "──────────────────\n",
       "          2       \n",
       "       L⋅σ        "
      ]
     },
     "execution_count": 5,
     "metadata": {},
     "output_type": "execute_result"
    }
   ],
   "source": [
    "diff(U, x).factor()"
   ]
  },
  {
   "cell_type": "code",
   "execution_count": 6,
   "id": "d8185e19-9eed-4323-9e6b-659218680ad1",
   "metadata": {},
   "outputs": [],
   "source": [
    "def dUx(x, y):\n",
    "    \"\"\" As before \"\"\"\n",
    "    r2 = x**2 + y**2\n",
    "    return uv*x*y/Lv*np.exp(-0.5*r2/s2)/s2"
   ]
  },
  {
   "cell_type": "code",
   "execution_count": 7,
   "id": "0b0212d1-e46f-408e-8218-3fde3d4a2b94",
   "metadata": {},
   "outputs": [
    {
     "data": {
      "image/png": "[encoded data removed]",
      "text/latex": [
       "$\\displaystyle \\frac{u_{v} \\left(- \\sigma + y\\right) \\left(\\sigma + y\\right) e^{- \\frac{x^{2}}{2 \\sigma^{2}}} e^{- \\frac{y^{2}}{2 \\sigma^{2}}}}{L \\sigma^{2}}$"
      ],
      "text/plain": [
       "                       2     2 \n",
       "                     -x    -y  \n",
       "                     ────  ────\n",
       "                        2     2\n",
       "                     2⋅σ   2⋅σ \n",
       "uᵥ⋅(-σ + y)⋅(σ + y)⋅ℯ    ⋅ℯ    \n",
       "───────────────────────────────\n",
       "                 2             \n",
       "              L⋅σ              "
      ]
     },
     "execution_count": 7,
     "metadata": {},
     "output_type": "execute_result"
    }
   ],
   "source": [
    "diff(U, y).factor()"
   ]
  },
  {
   "cell_type": "code",
   "execution_count": 8,
   "id": "a4dce325-3912-4969-a213-bcd64b4bb8e5",
   "metadata": {},
   "outputs": [],
   "source": [
    "def dUy(x, y):\n",
    "    \"\"\" As before \"\"\"\n",
    "    r2 = x**2 + y**2\n",
    "    return uv*(y**2 - s2)/Lv*np.exp(-0.5*r2/s2)/s2"
   ]
  },
  {
   "cell_type": "code",
   "execution_count": 9,
   "id": "fe4a77f8-1bf9-4a0a-b424-5291b42b6674",
   "metadata": {
    "tags": []
   },
   "outputs": [
    {
     "data": {
      "image/png": "[encoded data removed]",
      "text/latex": [
       "$\\displaystyle - \\frac{u_{v} \\left(- \\sigma + x\\right) \\left(\\sigma + x\\right) e^{- \\frac{x^{2}}{2 \\sigma^{2}}} e^{- \\frac{y^{2}}{2 \\sigma^{2}}}}{L \\sigma^{2}}$"
      ],
      "text/plain": [
       "                        2     2  \n",
       "                      -x    -y   \n",
       "                      ────  ──── \n",
       "                         2     2 \n",
       "                      2⋅σ   2⋅σ  \n",
       "-uᵥ⋅(-σ + x)⋅(σ + x)⋅ℯ    ⋅ℯ     \n",
       "─────────────────────────────────\n",
       "                  2              \n",
       "               L⋅σ               "
      ]
     },
     "execution_count": 9,
     "metadata": {},
     "output_type": "execute_result"
    }
   ],
   "source": [
    "V = u_v*(x/L)*exp(-(x**2 + y**2)/(2*sigma**2))\n",
    "diff(V, x).factor()"
   ]
  },
  {
   "cell_type": "code",
   "execution_count": 10,
   "id": "1ef5e850-d047-4a22-b594-1df6bb3e7a06",
   "metadata": {},
   "outputs": [],
   "source": [
    "def dVx(x, y):\n",
    "    \"\"\" As before \"\"\"\n",
    "    r2 = x**2 + y**2\n",
    "    return -uv*(x**2 - s2)/Lv*np.exp(-0.5*r2/s2)/s2"
   ]
  },
  {
   "cell_type": "code",
   "execution_count": 11,
   "id": "4634f57d-031b-43b4-933c-86a3e9a1725b",
   "metadata": {},
   "outputs": [
    {
     "data": {
      "image/png": "[encoded data removed]",
      "text/latex": [
       "$\\displaystyle - \\frac{u_{v} x y e^{- \\frac{x^{2}}{2 \\sigma^{2}}} e^{- \\frac{y^{2}}{2 \\sigma^{2}}}}{L \\sigma^{2}}$"
      ],
      "text/plain": [
       "           2     2  \n",
       "         -x    -y   \n",
       "         ────  ──── \n",
       "            2     2 \n",
       "         2⋅σ   2⋅σ  \n",
       "-uᵥ⋅x⋅y⋅ℯ    ⋅ℯ     \n",
       "────────────────────\n",
       "           2        \n",
       "        L⋅σ         "
      ]
     },
     "execution_count": 11,
     "metadata": {},
     "output_type": "execute_result"
    }
   ],
   "source": [
    "diff(V, y).factor()"
   ]
  },
  {
   "cell_type": "code",
   "execution_count": 12,
   "id": "8fbd0538-6c66-4fff-a918-c888f07c016b",
   "metadata": {},
   "outputs": [],
   "source": [
    "def dVy(x, y):\n",
    "    \"\"\" As before \"\"\"\n",
    "    r2 = x**2 + y**2\n",
    "    return uv*x*y/Lv*np.exp(-0.5*r2/s2)/s2"
   ]
  },
  {
   "cell_type": "code",
   "execution_count": 13,
   "id": "f1e2839e-9069-4919-acaa-b0f4d6f4ae39",
   "metadata": {},
   "outputs": [
    {
     "data": {
      "image/png": "[encoded data removed]",
      "text/latex": [
       "$\\displaystyle \\frac{h_{v} x e^{- \\frac{x^{2}}{2 \\sigma^{2}}} e^{- \\frac{y^{2}}{2 \\sigma^{2}}}}{\\sigma^{2}}$"
      ],
      "text/plain": [
       "        2     2 \n",
       "      -x    -y  \n",
       "      ────  ────\n",
       "         2     2\n",
       "      2⋅σ   2⋅σ \n",
       "hᵥ⋅x⋅ℯ    ⋅ℯ    \n",
       "────────────────\n",
       "        2       \n",
       "       σ        "
      ]
     },
     "execution_count": 13,
     "metadata": {},
     "output_type": "execute_result"
    }
   ],
   "source": [
    "h = H - h_v*exp(-(x**2+y**2)/(2*sigma**2))\n",
    "diff(h, x).factor()"
   ]
  },
  {
   "cell_type": "code",
   "execution_count": 14,
   "id": "3a00ad60-a496-44a6-9ef1-0d6b891cd56b",
   "metadata": {},
   "outputs": [],
   "source": [
    "def dHx(x, y):\n",
    "    \"\"\" Idem \"\"\"\n",
    "    r2 = x**2 + y**2\n",
    "    return hv*x*np.exp(-0.5*r2/s2)/s2\n",
    "\n",
    "\n",
    "def dHy(x, y):\n",
    "    \"\"\" Idem \"\"\"\n",
    "    r2 = x**2 + y**2\n",
    "    return hv*y*np.exp(-0.5*r2/s2)/s2"
   ]
  },
  {
   "cell_type": "markdown",
   "id": "c837f0dc-d5ff-4db2-a26e-c3757ac16bcf",
   "metadata": {},
   "source": [
    "## The ray tracing equations\n",
    "\n",
    "Recall the local or absolute frequency\n",
    "$$\\omega_{abs} = \\omega_{int} + \\boldsymbol{k\\cdot U}, \\quad\\text{where}\\quad \\omega_{int} = \\sqrt{f^2 + gh(\\boldsymbol r)\\kappa^2}$$\n",
    "is the intrinsic frequency, and where $\\kappa = |\\boldsymbol k| = \\sqrt{k_x^2 + k_y^2}$ .\n",
    "\n",
    "### The positions are solutions to\n",
    "$$\\frac{d \\boldsymbol r}{dt} = \\boldsymbol{\\nabla}_{\\boldsymbol k}\\omega_a = \\boldsymbol c_{g} + \\boldsymbol U,$$\n",
    "where the local or absolute group velocity is (see SymPy cell below)\n",
    "$$\\boldsymbol c_{g} = \\boldsymbol{\\nabla}_{\\boldsymbol k}\\omega_i = \\frac{g h(\\boldsymbol r)}{\\omega_{int}}\\boldsymbol k.$$"
   ]
  },
  {
   "cell_type": "code",
   "execution_count": 15,
   "id": "d51eaa98-7f4f-4054-9e39-04ebd3ad0d9f",
   "metadata": {},
   "outputs": [
    {
     "data": {
      "image/png": "[encoded data removed]",
      "text/latex": [
       "$\\displaystyle \\frac{H g k_{x}}{\\sqrt{H g \\left(k_{x}^{2} + k_{y}^{2}\\right) + f^{2}}}$"
      ],
      "text/plain": [
       "          H⋅g⋅kₓ          \n",
       "──────────────────────────\n",
       "   _______________________\n",
       "  ╱     ⎛  2      2⎞    2 \n",
       "╲╱  H⋅g⋅⎝kₓ  + k_y ⎠ + f  "
      ]
     },
     "execution_count": 15,
     "metadata": {},
     "output_type": "execute_result"
    }
   ],
   "source": [
    "f, g, H, k_x, k_y = symbols('f, g, H, k_x, k_y')\n",
    "diff(sqrt(f**2 + g*H*(k_x**2 + k_y**2)), k_x)"
   ]
  },
  {
   "cell_type": "markdown",
   "id": "4e3b7930-af75-4cac-8196-8484cd2f2ff6",
   "metadata": {},
   "source": [
    "### The wavevectors are solution to\n",
    "\n",
    "$$\\frac{d\\boldsymbol k}{dt} = -\\boldsymbol{\\nabla}\\omega_{abs} = -\\frac{\\partial \\omega_{int}}{\\partial h}\\boldsymbol{\\nabla}h -(\\boldsymbol{\\nabla U})\\cdot\\boldsymbol k = -\\frac{g \\kappa^2}{2\\omega_{int}}\\boldsymbol{\\nabla}h - k_i\\boldsymbol{\\nabla}U_i.$$"
   ]
  },
  {
   "cell_type": "code",
   "execution_count": 16,
   "id": "6d5e82ca-b8fc-4f39-89f7-9019f9a56bb9",
   "metadata": {},
   "outputs": [
    {
     "data": {
      "image/png": "[encoded data removed]",
      "text/latex": [
       "$\\displaystyle \\frac{g \\left(k_{x}^{2} + k_{y}^{2}\\right)}{2 \\sqrt{H g \\left(k_{x}^{2} + k_{y}^{2}\\right) + f^{2}}}$"
      ],
      "text/plain": [
       "         ⎛  2      2⎞       \n",
       "       g⋅⎝kₓ  + k_y ⎠       \n",
       "────────────────────────────\n",
       "     _______________________\n",
       "    ╱     ⎛  2      2⎞    2 \n",
       "2⋅╲╱  H⋅g⋅⎝kₓ  + k_y ⎠ + f  "
      ]
     },
     "execution_count": 16,
     "metadata": {},
     "output_type": "execute_result"
    }
   ],
   "source": [
    "diff(sqrt(f**2 + g*H*(k_x**2 + k_y**2)), H)"
   ]
  },
  {
   "cell_type": "markdown",
   "id": "e9898596-c02f-408b-9aa9-b86b05c60241",
   "metadata": {},
   "source": [
    "### Summary\n",
    "\n",
    "$$\n",
    "\\begin{align*}\n",
    "    \\frac{dx}{dt} & = \\frac{g h(\\boldsymbol r)}{\\omega_{int}(\\boldsymbol{r}, \\kappa)} k_x + U, \\\\\n",
    "    \\frac{dy}{dt} & = \\frac{g h(\\boldsymbol r)}{\\omega_{int}(\\boldsymbol{r}, \\kappa)} k_y + V, \\\\\n",
    "    \\frac{dk_x}{dt} & = -\\frac{g k^2}{2\\omega_{int}(\\boldsymbol{r}, \\kappa)}\\frac{\\partial h}{\\partial x} - k_x\\frac{\\partial U}{\\partial x} - k_y\\frac{\\partial V}{\\partial x} \\quad\\text{and}\\quad\\\\\n",
    "    \\frac{dk_y}{dt} & = -\\frac{g k^2}{2\\omega_{int}(\\boldsymbol{r}, \\kappa)}\\frac{\\partial h}{\\partial y} - k_x\\frac{\\partial U}{\\partial y} - k_y\\frac{\\partial V}{\\partial y}.\n",
    "\\end{align*}\n",
    "$$\n",
    "\n",
    "The idea is to solve this as a set of coupled ODEs with one of the `scipy.integrate` [routines](https://docs.scipy.org/doc/scipy/reference/integrate.html#solving-initial-value-problems-for-ode-systems)."
   ]
  },
  {
   "cell_type": "markdown",
   "id": "b11e5303-36e1-41c5-b3c6-ee13bd311f2c",
   "metadata": {},
   "source": [
    "## The code"
   ]
  },
  {
   "cell_type": "code",
   "execution_count": 17,
   "id": "34fff78b-8485-4d4b-8b44-392e0818a8c3",
   "metadata": {},
   "outputs": [],
   "source": [
    "import matplotlib.pyplot as plt\n",
    "from scipy.integrate import solve_ivp"
   ]
  },
  {
   "cell_type": "code",
   "execution_count": 18,
   "id": "1b2c711c-cd85-4bdd-a9af-78335d87bb1f",
   "metadata": {},
   "outputs": [],
   "source": [
    "def wint(x, y, kap2):\n",
    "    return (fcor**2 + grav*Height(x, y)*kap2)**.5\n",
    "\n",
    "def rhs(t, r):\n",
    "    \"\"\" r: [x, y, kx, ky] \"\"\"\n",
    "    k2 = r[2]**2 + r[3]**2\n",
    "    c02 = grav*Height(r[0], r[1])\n",
    "    oint = wint(r[0], r[1], k2)\n",
    "    RHSs = [Uvel(r[0], r[1]) + c02*r[2]/oint,\n",
    "            Vvel(r[0], r[1]) + c02*r[3]/oint, \n",
    "            -.5*grav*k2*dHx(r[0], r[1])/oint - r[2]*dUx(r[0], r[1]) - r[3]*dVx(r[0], r[1]),\n",
    "            -.5*grav*k2*dHy(r[0], r[1])/oint - r[2]*dUy(r[0], r[1]) - r[3]*dVy(r[0], r[1])]\n",
    "    return RHSs"
   ]
  },
  {
   "cell_type": "code",
   "execution_count": 30,
   "id": "927ba5e3-8c85-4b8a-a858-72004d0d0abf",
   "metadata": {},
   "outputs": [],
   "source": [
    "Ro = .1  # []\n",
    "fcor = 1e-4  # rad/s\n",
    "grav = 9.81  # m/s2\n",
    "dt = 312.2529  # s (not sure why for now)\n",
    "Lv = 25000.  # vortex scale\n",
    "Hm = 0.6371  # background depth\n",
    "\n",
    "c02 = grav*Hm\n",
    "hv = Ro*(Lv*fcor)**2/grav\n",
    "s2 = (Lv/pi)**2  # simga squared (I don't think we ever need sigma itself)\n",
    "uv = Ro*pi**2*fcor*Lv\n",
    "\n",
    "bigK = 4.  # Kap = L/lambda_x = L*kx/(2*pi)\n",
    "kx0 = 2*pi*bigK/Lv\n",
    "x0 = -4*Lv\n",
    "\n",
    "oref = (fcor**2 + c02*kx0**2)**.5  # frequency w/o vortex\n",
    "cgref = c02*kx0/oref  # group speed w/o vortex\n",
    "Ttransit = 2*abs(x0)/cgref  # time it takes to go through domain\n",
    "t_array = np.arange(0., Ttransit, dt)"
   ]
  },
  {
   "cell_type": "code",
   "execution_count": 32,
   "id": "06985238-45ca-4692-98a8-22815f3f9705",
   "metadata": {},
   "outputs": [
    {
     "data": {
      "image/png": "[encoded data removed]",
      "text/plain": [
       "<Figure size 640x480 with 1 Axes>"
      ]
     },
     "metadata": {},
     "output_type": "display_data"
    }
   ],
   "source": [
    "for y0 in np.linspace(-2*Lv, 2*Lv, 21):\n",
    "    r0 = [x0, y0, kx0, 0.]\n",
    "    ray = solve_ivp(lambda t, y: rhs(t, y), t_span=[0., Ttransit], y0=r0) #, t_eval=t_array)\n",
    "\n",
    "    plt.plot(ray.y[0], ray.y[1])"
   ]
  },
  {
   "cell_type": "markdown",
   "id": "373f49b3-9a37-4bc6-9cce-fb53896cfd73",
   "metadata": {},
   "source": [
    "Note that we find the bottom-top-bottom deviation pattern when $Ro$ is big enough (0.1 in the case I'm plotting), but only top when the Rossby is small (try 0.01).\n",
    "\n",
    "**I would like to plot each term on the RHS of the $dk_y/dt$ equation to see what's causing the top/down deviations. A scatter plot, colour-coded with the value of each term should be enough.**"
   ]
  },
  {
   "cell_type": "markdown",
   "id": "1e9fc8e5-3309-4af0-87cd-0827d497d6f2",
   "metadata": {},
   "source": [
    "## Tracking the amplitude\n",
    "\n",
    "This relies on the conservation of action $\\mathcal A = \\bar E/\\omega_{int}$, where \"$\\bar E$ is the phase-averaged density of disturbance energy\" (Bühler 2014, §4.4.4). What matters here is that $\\bar E \\propto A_w^2$, where $A_w$ is the wave perturbation amplitude we are looking for. The conservation law reads\n",
    "$$\\frac{d\\mathcal A}{dt} = - \\mathcal A \\boldsymbol{\\nabla\\cdot} (\\boldsymbol c_g + \\boldsymbol U) \\quad\\Leftrightarrow\\quad \\frac{d(\\ln \\mathcal A)}{dt} = - \\boldsymbol{\\nabla\\cdot} (\\boldsymbol c_g + \\boldsymbol U),$$\n",
    "where we recall that $\\boldsymbol c_{g} = g h\\boldsymbol k/\\omega_{int}$.\n",
    "*Careful: $\\boldsymbol c_g$ in Bühler refers to the **local**, i.e., **absolute**, group velocity. For us, $\\boldsymbol c_g$ is the **intrinsic** group velocity, which is why we need to add $\\boldsymbol U$ to $\\boldsymbol c_g$ in Bühler's Eq. (4.110).*\n",
    "\n",
    "So, we just have to add a \"passive tracer\" equation to the set of five equations for the evolution of $\\mathcal A$."
   ]
  },
  {
   "cell_type": "markdown",
   "id": "db431aff-f6dc-4a44-ba10-aa39fff1d945",
   "metadata": {},
   "source": [
    "Unpacking the group velocity divergence,\n",
    "$$\\boldsymbol{\\nabla\\cdot}\\left(\\frac{h(\\boldsymbol r)}{\\omega_{int}}\\boldsymbol k\\right) = \\frac{\\partial}{\\partial h}\\left(\\frac{h}{\\omega_{int}}\\right)\\left(\\frac{\\partial h}{\\partial x}k_x + \\frac{\\partial h}{\\partial y}k_y\\right)$$"
   ]
  },
  {
   "cell_type": "code",
   "execution_count": 22,
   "id": "14802c5c-5e02-447d-8b8c-40301b698bfa",
   "metadata": {},
   "outputs": [
    {
     "data": {
      "image/png": "[encoded data removed]",
      "text/latex": [
       "$\\displaystyle \\frac{f^{2} + \\omega_{int}^{2}}{2 \\omega_{int}^{3}}$"
      ],
      "text/plain": [
       " 2       2\n",
       "f  + ωᵢₙₜ \n",
       "──────────\n",
       "       3  \n",
       " 2⋅ωᵢₙₜ   "
      ]
     },
     "execution_count": 22,
     "metadata": {},
     "output_type": "execute_result"
    }
   ],
   "source": [
    "kappa, omega_int = symbols('kappa, omega_int', positive=True)\n",
    "diff(H/sqrt(f**2 + g*H*kappa**2), H).subs(H*g*kappa**2, omega_int**2 - f**2).factor()"
   ]
  },
  {
   "cell_type": "markdown",
   "id": "a2fb2266-8032-4496-b3d1-bfc769133b9e",
   "metadata": {},
   "source": [
    "And so the final equation for $\\mathcal A$ is\n",
    "$$\\frac{d\\ln(\\mathcal A)}{dt} = -g\\frac{\\omega_{int}^2 + f^2}{2\\omega_{int}^3}\\left(\\frac{\\partial h}{\\partial x}k_x + \\frac{\\partial h}{\\partial y}k_y\\right) - \\frac{\\partial U}{\\partial x} - \\frac{\\partial V}{\\partial y}.$$"
   ]
  },
  {
   "cell_type": "code",
   "execution_count": 23,
   "id": "a85204ab-b1ad-45c4-954e-6c617c4bae0b",
   "metadata": {},
   "outputs": [],
   "source": [
    "def rhs_A(t, r):\n",
    "    \"\"\" r: [x, y, kx, ky, lnA], with lmA the wave action log \"\"\"\n",
    "    k2 = r[2]**2 + r[3]**2\n",
    "    c02 = grav*Height(r[0], r[1])\n",
    "    oint = wint(r[0], r[1], k2)\n",
    "    prefac_mcA = -.5*grav*(oint**2 + fcor**2)*oint**(-3)\n",
    "    RHSs = [Uvel(r[0], r[1]) + c02*r[2]/oint,\n",
    "            Vvel(r[0], r[1]) + c02*r[3]/oint, \n",
    "            -.5*grav*k2*dHx(r[0], r[1])/oint - r[2]*dUx(r[0], r[1]) - r[3]*dVx(r[0], r[1]),\n",
    "            -.5*grav*k2*dHy(r[0], r[1])/oint - r[2]*dUy(r[0], r[1]) - r[3]*dVy(r[0], r[1]),\n",
    "            prefac_mcA*(dHx(r[0], r[1])*r[2] + dHy(r[0], r[1])*r[3]) - dUx(r[0], r[1]) - dVy(r[0], r[1])]\n",
    "    return RHSs"
   ]
  },
  {
   "cell_type": "markdown",
   "id": "4bd44db0-2eef-49b5-b0a6-f99fd6268f71",
   "metadata": {},
   "source": [
    "I will artificially decrease the speed of the algorithm by using the `t_eval=t_array` option. Two advantages:\n",
    "1. All rays will have the same number of points, meaning I can put everyone in a big numpy array.\n",
    "2. I can do a \"global\" scatterplot to have the same color scale across all rays."
   ]
  },
  {
   "cell_type": "code",
   "execution_count": 24,
   "id": "a47b80b3-0c95-425b-b8e5-aeffeda43e2c",
   "metadata": {},
   "outputs": [
    {
     "name": "stderr",
     "output_type": "stream",
     "text": [
      "/var/folders/7y/707b3rbx7dv9jch1hz6swz1w0000gn/T/ipykernel_89755/2728913813.py:2: RuntimeWarning: invalid value encountered in double_scalars\n",
      "  return (fcor**2 + grav*Height(x, y)*kap2)**.5\n"
     ]
    },
    {
     "ename": "ValueError",
     "evalue": "could not broadcast input array from shape (5,251) into shape (5,257)",
     "output_type": "error",
     "traceback": [
      "\u001b[0;31m---------------------------------------------------------------------------\u001b[0m",
      "\u001b[0;31mValueError\u001b[0m                                Traceback (most recent call last)",
      "\u001b[0;32m/var/folders/7y/707b3rbx7dv9jch1hz6swz1w0000gn/T/ipykernel_89755/530833518.py\u001b[0m in \u001b[0;36m<module>\u001b[0;34m\u001b[0m\n\u001b[1;32m      6\u001b[0m     ray = solve_ivp(lambda t, y: rhs_A(t, y), t_span=[0., Ttransit], y0=r0, \n\u001b[1;32m      7\u001b[0m                         t_eval=t_array)\n\u001b[0;32m----> 8\u001b[0;31m     \u001b[0mrays\u001b[0m\u001b[0;34m[\u001b[0m\u001b[0;34m:\u001b[0m\u001b[0;34m,\u001b[0m \u001b[0mnray\u001b[0m\u001b[0;34m,\u001b[0m \u001b[0;34m:\u001b[0m\u001b[0;34m]\u001b[0m \u001b[0;34m=\u001b[0m \u001b[0mray\u001b[0m\u001b[0;34m.\u001b[0m\u001b[0my\u001b[0m\u001b[0;34m\u001b[0m\u001b[0;34m\u001b[0m\u001b[0m\n\u001b[0m\u001b[1;32m      9\u001b[0m \u001b[0;34m\u001b[0m\u001b[0m\n\u001b[1;32m     10\u001b[0m \u001b[0moint_array\u001b[0m \u001b[0;34m=\u001b[0m \u001b[0mwint\u001b[0m\u001b[0;34m(\u001b[0m\u001b[0mrays\u001b[0m\u001b[0;34m[\u001b[0m\u001b[0;36m0\u001b[0m\u001b[0;34m,\u001b[0m \u001b[0;34m:\u001b[0m\u001b[0;34m,\u001b[0m \u001b[0;34m:\u001b[0m\u001b[0;34m]\u001b[0m\u001b[0;34m,\u001b[0m \u001b[0mrays\u001b[0m\u001b[0;34m[\u001b[0m\u001b[0;36m1\u001b[0m\u001b[0;34m,\u001b[0m \u001b[0;34m:\u001b[0m\u001b[0;34m,\u001b[0m \u001b[0;34m:\u001b[0m\u001b[0;34m]\u001b[0m\u001b[0;34m,\u001b[0m \u001b[0mrays\u001b[0m\u001b[0;34m[\u001b[0m\u001b[0;36m2\u001b[0m\u001b[0;34m,\u001b[0m \u001b[0;34m:\u001b[0m\u001b[0;34m,\u001b[0m \u001b[0;34m:\u001b[0m\u001b[0;34m]\u001b[0m\u001b[0;34m**\u001b[0m\u001b[0;36m2\u001b[0m \u001b[0;34m+\u001b[0m \u001b[0mrays\u001b[0m\u001b[0;34m[\u001b[0m\u001b[0;36m3\u001b[0m\u001b[0;34m,\u001b[0m \u001b[0;34m:\u001b[0m\u001b[0;34m,\u001b[0m \u001b[0;34m:\u001b[0m\u001b[0;34m]\u001b[0m\u001b[0;34m**\u001b[0m\u001b[0;36m2\u001b[0m\u001b[0;34m)\u001b[0m\u001b[0;34m\u001b[0m\u001b[0;34m\u001b[0m\u001b[0m\n",
      "\u001b[0;31mValueError\u001b[0m: could not broadcast input array from shape (5,251) into shape (5,257)"
     ]
    }
   ],
   "source": [
    "nrays = 41\n",
    "nt = len(t_array)\n",
    "rays = np.empty((5, nrays, nt))\n",
    "for nray, y0 in enumerate(np.linspace(-2*Lv, 2*Lv, nrays)):\n",
    "    r0 = [x0, y0, kx0, 0., 1.]\n",
    "    ray = solve_ivp(lambda t, y: rhs_A(t, y), t_span=[0., Ttransit], y0=r0, \n",
    "                        t_eval=t_array)\n",
    "    rays[:, nray, :] = ray.y\n",
    "\n",
    "oint_array = wint(rays[0, :, :], rays[1, :, :], rays[2, :, :]**2 + rays[3, :, :]**2)\n",
    "Aw = (np.exp(rays[4, :, :])*oint_array)**.5  # Wave amplitude"
   ]
  },
  {
   "cell_type": "code",
   "execution_count": null,
   "id": "70b71559-a68c-46d2-9941-47090dae0f81",
   "metadata": {},
   "outputs": [],
   "source": [
    "angles = np.linspace(0, 2*pi, 361)\n",
    "xin, yin = Lv*np.cos(angles), Lv*np.sin(angles)\n",
    "xout, yout = 2*Lv*np.cos(angles), 2*Lv*np.sin(angles)\n",
    "\n",
    "fg, ax = plt.subplots(1, 1, dpi=150)\n",
    "ax.plot(xin/Lv, yin/Lv, 'g', linewidth=1, alpha=0.5)\n",
    "ax.plot(xout/Lv, yout/Lv, 'g--', linewidth=1, alpha=0.5)\n",
    "cb = plt.scatter(rays[0, :, :]/Lv, rays[1, :, :]/Lv, s=4, c=Aw, cmap='plasma', alpha=.5)\n",
    "ax.set_xlabel('$x/L$')\n",
    "ax.set_ylabel('$y/L$')\n",
    "ax.set_title(\"Rays, colour-coded by amplitude\")\n",
    "ax.set_aspect('equal')\n",
    "plt.colorbar(ax=ax, orientation='horizontal')"
   ]
  },
  {
   "cell_type": "markdown",
   "id": "a7996b98-869a-49a7-aa90-67f0a7ff1b65",
   "metadata": {},
   "source": [
    "Note: I am not super fan of the one that goes straight through the middle."
   ]
  },
  {
   "cell_type": "markdown",
   "id": "dbf1cc91-992c-4f2d-8117-4c05f3625e57",
   "metadata": {},
   "source": [
    "## With Jeff's vortex\n",
    "\n",
    "What preceded was a toy model. Indeed, I needed something quick because for what comes next, I will need to interpolate the mean flow values, and it takes quite a bit of time. Nevertheless, this section should be the definitive one, or meant to become it.\n",
    "\n",
    "It was simpler to create a new notebook: see `sw-actual.ipynb`."
   ]
  }
 ],
 "metadata": {
  "kernelspec": {
   "display_name": "Python 3 (ipykernel)",
   "language": "python",
   "name": "python3"
  },
  "language_info": {
   "codemirror_mode": {
    "name": "ipython",
    "version": 3
   },
   "file_extension": ".py",
   "mimetype": "text/x-python",
   "name": "python",
   "nbconvert_exporter": "python",
   "pygments_lexer": "ipython3",
   "version": "3.10.4"
  }
 },
 "nbformat": 4,
 "nbformat_minor": 5
}
